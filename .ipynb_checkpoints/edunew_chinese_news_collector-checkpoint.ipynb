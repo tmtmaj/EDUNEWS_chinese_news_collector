{
 "cells": [
  {
   "cell_type": "code",
   "execution_count": 2,
   "metadata": {
    "scrolled": true
   },
   "outputs": [],
   "source": [
    "# from urllib.request import urlopen\n",
    "# from bs4 import BeautifulSoup\n",
    "\n",
    "# html = urlopen(\"http://sh.eastday.com/m/20191211/u1ai20219125.html\")  \n",
    "\n",
    "# bsObject = BeautifulSoup(html, \"html.parser\") \n",
    "\n",
    "# # print(bsObject.head.title)\n",
    "# print(bsObject) # 웹 문서 전체가 출력됩니다. "
   ]
  },
  {
   "cell_type": "code",
   "execution_count": 12,
   "metadata": {},
   "outputs": [
    {
     "name": "stdout",
     "output_type": "stream",
     "text": [
      "梅龙镇广场化身艺术之城 蒙德里安抽象艺术展亮相申城\n"
     ]
    }
   ],
   "source": [
    "print(bsObject.find('div', {'id' : 'biaoti'}).text.strip())"
   ]
  },
  {
   "cell_type": "code",
   "execution_count": 20,
   "metadata": {
    "scrolled": true
   },
   "outputs": [
    {
     "name": "stdout",
     "output_type": "stream",
     "text": [
      "\n",
      "上海市民熟悉的梅龙镇广场变身“时尚前卫的艺术之城”，近20米高的红黄蓝圣诞树正式亮相。12月10日-1月1日，梅龙镇广场携手荷兰海牙市立博物馆，以蒙德里安标志性红黄蓝三原色为灵感，呈现极具视觉冲击力和梦幻感的装饰作品。\n",
      "\n",
      "作为20世纪最伟大的艺术大师之一，蒙德里安的艺术几乎纯粹到极致，其作品多为最纯粹的三原色、直线、平面等元素构成。\n",
      "\n",
      "走进梅龙镇广场，两幅近20米高、占据7层的蒙德里安风格作品十分抢眼。在现场迷你版的博物馆里，市民还能看到荷兰海牙市立博物馆授权的多幅蒙德里安经典作品复刻画，其中最知名的是他的最后一部抽象作品《胜利之舞》。\n",
      "\n",
      "据介绍，现场设置了不少互动环节：在手工作坊亲手绘制蒙德里安风格环保袋、于“仙女工厂”做一款定制美甲，更有多个蒙德里安风格装置艺术供市民打卡。\n",
      "上海市民熟悉的梅龙镇广场变身“时尚前卫的艺术之城”，近20米高的红黄蓝圣诞树正式亮相。12月10日-1月1日，梅龙镇广场携手荷兰海牙市立博物馆，以蒙德里安标志性红黄蓝三原色为灵感，呈现极具视觉冲击力和梦幻感的装饰作品。作为20世纪最伟大的艺术大师之一，蒙德里安的艺术几乎纯粹到极致，其作品多为最纯粹的三原色、直线、平面等元素构成。走进梅龙镇广场，两幅近20米高、占据7层的蒙德里安风格作品十分抢眼。在现场迷你版的博物馆里，市民还能看到荷兰海牙市立博物馆授权的多幅蒙德里安经典作品复刻画，其中最知名的是他的最后一部抽象作品《胜利之舞》。据介绍，现场设置了不少互动环节：在手工作坊亲手绘制蒙德里安风格环保袋、于“仙女工厂”做一款定制美甲，更有多个蒙德里安风格装置艺术供市民打卡。 337\n"
     ]
    }
   ],
   "source": [
    "content = \"\"\n",
    "for link in bsObject.find('div', {'id' : 'zw'}).find_all('p'):\n",
    "    print(link.text.strip())\n",
    "    content += link.text.strip()\n",
    "    \n",
    "print(content, len(content))"
   ]
  },
  {
   "cell_type": "code",
   "execution_count": 8,
   "metadata": {
    "scrolled": true
   },
   "outputs": [
    {
     "name": "stdout",
     "output_type": "stream",
     "text": [
      "<div class=\"grey14 lh26\" id=\"zw\">\n",
      "<!--enpcontent--><p style=\"text-align: center;\"><img src=\"/images/thumbnailimg/month_1912/3ad0face51de42bd9cb058d1f9caf708.jpg\"/></p><p>　　上海市民熟悉的梅龙镇广场变身“时尚前卫的艺术之城”，近20米高的红黄蓝圣诞树正式亮相。12月10日-1月1日，梅龙镇广场携手荷兰海牙市立博物馆，以蒙德里安标志性红黄蓝三原色为灵感，呈现极具视觉冲击力和梦幻感的装饰作品。</p><p style=\"text-align: center;\"><img src=\"/images/thumbnailimg/month_1912/cdec478ed52e443789b310f39079e96f.jpg\"/></p><p>　　作为20世纪最伟大的艺术大师之一，蒙德里安的艺术几乎纯粹到极致，其作品多为最纯粹的三原色、直线、平面等元素构成。</p><p style=\"text-align: center;\"><img src=\"/images/thumbnailimg/month_1912/6a7b6f2bc3e44f8fb1b524c96393d1a9.jpg\"/></p><p>　　走进梅龙镇广场，两幅近20米高、占据7层的蒙德里安风格作品十分抢眼。在现场迷你版的博物馆里，市民还能看到荷兰海牙市立博物馆授权的多幅蒙德里安经典作品复刻画，其中最知名的是他的最后一部抽象作品《胜利之舞》。</p><p style=\"text-align: center;\"><img src=\"/images/thumbnailimg/month_1912/c7af8bfa4b6d4d778c1df0d37d449911.jpg\"/></p><p>　　据介绍，现场设置了不少互动环节：在手工作坊亲手绘制蒙德里安风格环保袋、于“仙女工厂”做一款定制美甲，更有多个蒙德里安风格装置艺术供市民打卡。</p><!--/enpcontent--><div class=\"clear\"></div>\n",
      "<div class=\"blank30\"></div><!--稿件分页代码开始-->\n",
      "<div class=\"jmenu\" id=\"pageindex\"><table align=\"center\"><tr><td>\n",
      "<!-- 新版分页开始 -->\n",
      "<!-- 新版分页结束 -->\n",
      "</td></tr></table>\n",
      "</div><!--稿件分页代码结束-->\n",
      "</div> <class 'bs4.element.Tag'>\n"
     ]
    }
   ],
   "source": [
    "zw_divs = bsObject.find('div', {'id' : 'zw'}).find_all('p')\n",
    "print(zw_divs, type(zw_divs))"
   ]
  },
  {
   "cell_type": "code",
   "execution_count": 4,
   "metadata": {
    "scrolled": true
   },
   "outputs": [
    {
     "name": "stdout",
     "output_type": "stream",
     "text": [
      "暖回穿衬衫？上海周末最高温回升至17℃ 温暖程度常年同期少有 http://sh.eastday.com/m/20191212/u1ai20221911.html\n",
      "双12申城商家开启“智慧零售”：一个烹饪机器人一天炒出200... http://sh.eastday.com/m/20191212/u1ai20221854.html\n",
      "上海轨交10号线二期上线调试 明年年底有望开通试运营 http://sh.eastday.com/m/20191212/u1ai20221846.html\n",
      "上海正开展“一江一河一湖”融合规划 苏州河42公里公共空间明... http://sh.eastday.com/m/20191212/u1ai20221705.html\n",
      "上海面向在沪就业台湾青年推出公租房 首批300套今签约 http://sh.eastday.com/m/20191212/u1ai20221632.html\n",
      "2019上海网络视听产业周开幕 两大项目签约落地 http://sh.eastday.com/m/20191212/u1ai20221616.html\n",
      "对旧区改造从不理解到支持 是什么让百岁老人态度180度转变 http://sh.eastday.com/m/20191212/u1ai20221623.html\n",
      "撒币男子瘫坐ATM机旁 竟是“吃了酒存钱存一半睡着了” http://sh.eastday.com/m/20191212/u1ai20221513.html\n",
      "“艺术推动可持续未来”倡议及学术研讨系列活动在沪拉开序幕 http://sh.eastday.com/m/20191212/u1ai20221357.html\n",
      "上海北斗导航研发与转化平台启动 初步建成六大应用系统 http://sh.eastday.com/m/20191212/u1ai20221341.html\n",
      "揭秘“爆款IP”中的上海基因 创新赋能成就更多可能 http://sh.eastday.com/m/20191212/u1ai20221336.html\n",
      "违法者不配合局面改变 上海交警：执法不是为罚款 http://sh.eastday.com/m/20191212/u1ai20221311.html\n",
      "微店使用“饿了么”商标经营头盔冲锋衣 被判侵权赔15万元 http://sh.eastday.com/m/20191212/u1ai20221235.html\n",
      "男子想安葬亡父继母不肯给骨灰盒 法院裁定应立案 http://sh.eastday.com/m/20191212/u1ai20221227.html\n",
      "崭新的绿地公园被荒废 为何迟迟未正式对外开放? http://sh.eastday.com/m/20191212/u1ai20221143.html\n",
      "2019“山西小米”品牌上海推介活动走进沪上六区，与社区居民... http://sh.eastday.com/m/20191212/u1ai20221037.html\n",
      "3个月28台34场演出，上海保利大剧院跨年演出季发布 http://sh.eastday.com/m/20191212/u1ai20220821.html\n",
      "这款新车12月13日起亮相金山铁路 每趟载客量增900余人 http://sh.eastday.com/m/20191212/u1ai20220773.html\n",
      "8折Burberry围巾被专柜验假 网购平台仅凭一张报关单认... http://sh.eastday.com/m/20191212/u1ai20220767.html\n",
      "微店使用“饿了么”商标经营头盔冲锋衣，被判侵权赔15万元 http://sh.eastday.com/m/20191212/u1ai20220756.html\n",
      "垃圾分拣分出一叠厚厚钞票 粗心儿子误把母亲遗物当“干垃圾” http://sh.eastday.com/m/20191212/u1ai20220681.html\n",
      "Burberry？LV？贝亲？都是假货，源头都被上海警方端了... http://sh.eastday.com/m/20191212/u1ai20220670.html\n",
      "为创新型高端产业集群\"备粮\" \"海创计划\"今日在临港启航 http://sh.eastday.com/m/20191212/u1ai20220618.html\n",
      "和慧版《图兰朵》首秀中国舞台 上海出品让经典“更中国” http://sh.eastday.com/m/20191212/u1ai20220619.html\n",
      "为宠物开专车 他一年接送了6000多只狗狗 http://sh.eastday.com/m/20191212/u1ai20220621.html\n",
      "这种乳腺癌最“毒”！ 上海专家：这种新疗法让患者生存率提高了 http://sh.eastday.com/m/20191212/u1ai20220535.html\n",
      "竹林七贤pk嬉皮士  如何用脑洞打开外国人看中国的新视角？ http://sh.eastday.com/m/20191212/u1ai20220536.html\n",
      "上海已用非机动车电子号牌系统查处违法4.9万余起，不怕遮挡不... http://sh.eastday.com/m/20191212/u1ai20220406.html\n",
      "抢票攻略来了！2020春运火车票今起开抢 看似波澜不惊其实变... http://sh.eastday.com/m/20191212/u1ai20220206.html\n",
      "上海猪肉价格止跌反弹 批发均价41.35元/公斤 环比上涨6... http://sh.eastday.com/m/20191212/u1ai20220075.html\n",
      "36名犯罪团伙伪装女性诱骗 谎称推广返佣能赚钱 http://sh.eastday.com/m/20191212/u1ai20219755.html\n",
      "上海“女诸葛”智斗两蟊贼 民警都忍不住为她点赞 http://sh.eastday.com/m/20191212/u1ai20219678.html\n",
      "品区・年度词 | 当年数学课上难倒大家的“相遇问题”，杨浦这... http://sh.eastday.com/m/20191212/u1ai20219668.html\n",
      "往饭卡里悄悄打钱，勤工助学可预支工资 上海高校多举措帮助贫困... http://sh.eastday.com/m/20191212/u1ai20219638.html\n",
      "双12“剁手”狂欢不减速，上海海关全天24小时卡口快速放行 http://sh.eastday.com/m/20191212/u1ai20219625.html\n",
      "上海高三女生受邀观摩诺贝尔奖颁奖，曾获国际科创大赛一等奖 http://sh.eastday.com/m/20191212/u1ai20219612.html\n",
      "申城气象指数（12月12日） http://sh.eastday.com/m/20191212/u1ai20219604.html\n",
      "岁末年初 这些冬季高发病要警惕[图] http://sh.eastday.com/m/20191212/u1ai20219193.html\n",
      "年夜饭普遍涨价，热门饭店一席难求 http://sh.eastday.com/m/20191212/u1ai20219540.html\n",
      "上海铁警成立打票贩小分队  严打倒票、买短乘长等行为 http://sh.eastday.com/m/20191212/u1ai20219533.html\n",
      "白金卡会员两年购票1118张退830张 因“行为不当”被降级 http://sh.eastday.com/m/20191212/u1ai20219530.html\n",
      "本轮污染过程今日结束 明天起升温，下周初最高气温将达20℃ http://sh.eastday.com/m/20191212/u1ai20219529.html\n",
      "今冬，这片街区又“穿”上彩色毛衣 http://sh.eastday.com/m/20191212/u1ai20219528.html\n",
      "交2万能参加小五班神秘考？家长心存侥幸：摇号政策没出，万一有... http://sh.eastday.com/m/20191212/u1ai20219527.html\n",
      "携手上海歌剧院，和慧中国舞台首秀《图兰朵》 http://sh.eastday.com/m/20191212/u1ai20219516.html\n",
      "啼笑皆非里，尽显父母被作业“逼疯”的焦虑 http://sh.eastday.com/m/20191212/u1ai20219515.html\n",
      "上海网络视听产业周今开幕，专业论坛之外还将推出多档线下活动 http://sh.eastday.com/m/20191212/u1ai20219514.html\n",
      "苏州河42公里公共空间明年贯通开放 http://sh.eastday.com/m/20191212/u1ai20219508.html\n",
      "上海海关尝试拯救流浪犬，将在搜寻禁止进境物品中发挥作用 http://sh.eastday.com/m/20191212/u1ai20219487.html\n",
      "申城酒店推智能化可追溯系统，扫描小程序二维码了解清洁信息 http://sh.eastday.com/m/20191212/u1ai20219486.html\n",
      "300余件世博历史文献展示百年人类文明交流互鉴 世博专题图书... http://sh.eastday.com/m/20191212/u1ai20219475.html\n",
      "八成在线学习者渴望走近人工智能 http://sh.eastday.com/m/20191212/u1ai20219474.html\n",
      "不怕遮挡不依赖探头，整治非机动车违法有新招 http://sh.eastday.com/m/20191212/u1ai20219473.html\n",
      "绥芬河自贸片区来沪对接 http://sh.eastday.com/m/20191212/u1ai20219472.html\n",
      "临港新片区明年将推进130余个项目 总投资超过4000亿元 http://sh.eastday.com/m/20191212/u1ai20219471.html\n",
      "要有小桥流水 更需生态产业成链 http://sh.eastday.com/m/20191212/u1ai20219469.html\n",
      "“家门口客厅”打造美好生活共同体 http://sh.eastday.com/m/20191212/u1ai20219468.html\n",
      "长三角金融服务“同城化”提速 http://sh.eastday.com/m/20191212/u1ai20219465.html\n",
      "首页 ../sh/index.html\n",
      "末页 ../sh/index.html\n"
     ]
    }
   ],
   "source": [
    "from urllib.request import urlopen\n",
    "from bs4 import BeautifulSoup\n",
    "\n",
    "html = urlopen(\"http://news.eastday.com/gd2008/sh/index.html?t=true\")  \n",
    "\n",
    "bsObject = BeautifulSoup(html, \"html.parser\") \n",
    "\n",
    "# print(bsObject.head.title)\n",
    "# print(bsObject) # 웹 문서 전체가 출력됩니다. \n",
    "\n",
    "for link in bsObject.find(\"div\", {\"class\": \"leftsection\"}).find_all(\"a\"):\n",
    "    print(link.text.strip(), link.get(\"href\"))\n",
    "#     html_eastday_link = link.get(\"href\")"
   ]
  },
  {
   "cell_type": "code",
   "execution_count": 10,
   "metadata": {},
   "outputs": [
    {
     "data": {
      "text/plain": [
       "(2019, 12, 13)"
      ]
     },
     "execution_count": 10,
     "metadata": {},
     "output_type": "execute_result"
    }
   ],
   "source": [
    "now = time.gmtime(time.time())\n",
    "now.tm_year, now.tm_mon, now.tm_mday"
   ]
  },
  {
   "cell_type": "code",
   "execution_count": 11,
   "metadata": {},
   "outputs": [
    {
     "name": "stdout",
     "output_type": "stream",
     "text": [
      "5_2019_347\n"
     ]
    }
   ],
   "source": [
    "print(\"{}_{}_{}\".format(now.tm_hour, now.tm_year, now.tm_yday))"
   ]
  },
  {
   "cell_type": "code",
   "execution_count": 12,
   "metadata": {
    "scrolled": true
   },
   "outputs": [],
   "source": [
    "from urllib.request import urlopen\n",
    "from bs4 import BeautifulSoup\n",
    "import pandas as pd\n",
    "import time\n",
    "\n",
    "now =time.gmtime(time.time())\n",
    "html_eastday_scroll = urlopen(\"http://news.eastday.com/gd2008/sh/index.html?t=true\")  \n",
    "\n",
    "bs_eastday_scroll = BeautifulSoup(html_eastday_scroll, \"html.parser\") \n",
    "\n",
    "eastday_titles = []\n",
    "eastday_links = []\n",
    "eastday_lens = []\n",
    "\n",
    "for link in bs_eastday_scroll.find(\"div\", {\"class\": \"leftsection\"}).find_all(\"a\"):\n",
    "#     print(link.text.strip(), link.get(\"href\"))\n",
    "    html_eastday_title = link.text.strip()\n",
    "    html_eastday_link = link.get(\"href\")\n",
    "    if html_eastday_link.count(\"http\"):\n",
    "        eastday_titles.append(html_eastday_title)\n",
    "        eastday_links.append(html_eastday_link)\n",
    "# print(len(eastday_titles))\n",
    "for html_eastday_title, html_eastday_link in zip(eastday_titles, eastday_links):\n",
    "    html_eastday = urlopen(html_eastday_link)\n",
    "#     print(html_eastday_title, html_eastday_link)\n",
    "    bs_eastday = BeautifulSoup(html_eastday, \"html.parser\")\n",
    "    content = \"\"\n",
    "    for con in bs_eastday.find('div', {'id' : 'zw'}).find_all('p'):\n",
    "        content += con.text.strip()\n",
    "    eastday_lens.append(len(content))\n",
    "# #     print(html_eastday_title, len(content), html_eastday_link)\n",
    "# print(eastday_titles)\n",
    "# print(len(eastday_lens), len(eastday_links), len(eastday_titles))\n",
    "columns = [\"biaoti\", \"len\", \"link\"]\n",
    "data = {\n",
    "    columns[0]:eastday_titles,\n",
    "    columns[1]:eastday_lens,\n",
    "    columns[2]:eastday_links\n",
    "}\n",
    "\n",
    "eastday_frame = pd.DataFrame(data, columns=columns)\n",
    "eastday_frame.to_csv(\"{}_{}_{}_eastday_data.csv\".format(now.tm_year, now.tm_mon, now.tm_mday))"
   ]
  },
  {
   "cell_type": "code",
   "execution_count": 25,
   "metadata": {},
   "outputs": [
    {
     "name": "stdout",
     "output_type": "stream",
     "text": [
      "found chinese character in ./data/NCDC/上海/虹桥/9705626661750dat.txt\n"
     ]
    }
   ],
   "source": [
    "import re\n",
    "ipath= './data/NCDC/上海/虹桥/9705626661750dat.txt'\n",
    "ipath2 = './data/NCDC/ciampino/6240476818161dat.txt'\n",
    "for x in (ipath, ipath2):\n",
    "    if re.search(u'[\\u4e00-\\u9fff]', x):\n",
    "        print('found chinese character in ' + x)"
   ]
  },
  {
   "cell_type": "code",
   "execution_count": 27,
   "metadata": {},
   "outputs": [
    {
     "name": "stdout",
     "output_type": "stream",
     "text": [
      "新民晚报“上海时刻”出品【新民晚报·新民网】12月13日11时56分许，浦东新区高东路118号上海嘉里粮油有限公司发生火灾。记者了解到，浦东消防出动10辆车现场处置，初步过火面积约50-60平方米。目前，火势已得到有效控制，无人员伤亡。（新民晚报记者 戴天骄）\n"
     ]
    }
   ],
   "source": [
    "html_xinmin = urlopen(\"http://shanghai.xinmin.cn/xmsq/2019/12/13/31622341.html\")\n",
    "bs_xinmin = BeautifulSoup(html_xinmin, \"html.parser\")\n",
    "content = \"\"\n",
    "for con in bs_xinmin.find('div', {'class' : 'a_content'}).find_all('p'):\n",
    "    temp_con = con.text.strip()\n",
    "    if re.search(u'[\\u4e00-\\u9fff]', temp_con):\n",
    "        content += temp_con\n",
    "print(content)\n",
    "\n",
    "# def detect_chinese(str content):\n",
    "    \n",
    "    "
   ]
  },
  {
   "cell_type": "code",
   "execution_count": 35,
   "metadata": {},
   "outputs": [],
   "source": [
    "from urllib.request import urlopen\n",
    "from bs4 import BeautifulSoup\n",
    "import pandas as pd\n",
    "import time\n",
    "import re\n",
    "\n",
    "now =time.gmtime(time.time())\n",
    "\n",
    "html_xinmin_scroll = urlopen(\"http://www.xinmin.cn/rollnews/index.htm\")  \n",
    "\n",
    "bs_xinmin_scroll = BeautifulSoup(html_xinmin_scroll, \"html.parser\") \n",
    "\n",
    "xinmin_titles = []\n",
    "xinmin_links = []\n",
    "xinmin_lens = []\n",
    "\n",
    "for link in bs_xinmin_scroll.find_all(\"div\", {\"class\": \"cont_full\"}):\n",
    "#     print(link.text.strip(), link.get(\"href\"))\n",
    "    html_xinmin_title = link.find(\"a\").text.strip()\n",
    "    html_xinmin_link = link.find(\"a\").get(\"href\")\n",
    "    if html_xinmin_link.count(\"http\"):\n",
    "        xinmin_titles.append(html_xinmin_title)\n",
    "        xinmin_links.append(html_xinmin_link)\n",
    "# print(len(xinmin_titles))\n",
    "for html_xinmin_title, html_xinmin_link in zip(xinmin_titles, xinmin_links):\n",
    "    html_xinmin = urlopen(html_xinmin_link)\n",
    "#     print(html_xinmin_title, html_xinmin_link)\n",
    "    bs_xinmin = BeautifulSoup(html_xinmin, \"html.parser\")\n",
    "    content = \"\"\n",
    "    try:\n",
    "        for con in bs_xinmin.find('div', {'class' : 'a_content'}).find_all('p'):\n",
    "            temp_con = con.text.strip()\n",
    "            if re.search(u'[\\u4e00-\\u9fff]', temp_con):\n",
    "                content += temp_con\n",
    "    except:\n",
    "        pass\n",
    "    xinmin_lens.append(len(content))\n",
    "# #     print(html_xinmin_title, len(content), html_xinmin_link)\n",
    "# print(xinmin_titles)\n",
    "# print(len(xinmin_lens), len(xinmin_links), len(xinmin_titles))\n",
    "columns = [\"biaoti\", \"len\", \"link\"]\n",
    "data = {\n",
    "    columns[0]:xinmin_titles,\n",
    "    columns[1]:xinmin_lens,\n",
    "    columns[2]:xinmin_links\n",
    "}\n",
    "\n",
    "xinmin_frame = pd.DataFrame(data, columns=columns)\n",
    "xinmin_frame.sort_values(columns[1], axis = 0, ascending = True, inplace = True, na_position ='first') \n",
    "xinmin_frame.to_csv(\"{}_{}_{}_xinmin_data.csv\".format(now.tm_year, now.tm_mon, now.tm_mday))"
   ]
  },
  {
   "cell_type": "code",
   "execution_count": 39,
   "metadata": {
    "scrolled": true
   },
   "outputs": [],
   "source": [
    "import xlsxwriter\n",
    "writer = pd.ExcelWriter(\"{}_{}_{}_data.xlsx\".format(now.tm_year, now.tm_mon, now.tm_mday), engine = \"xlsxwriter\")\n",
    "\n",
    "dfs = {\"eastday\":xinmin_frame, \"xinmin\":xinmin_frame}\n",
    "\n",
    "for sheet_name in dfs.keys():\n",
    "    dfs[sheet_name].to_excel(writer, sheet_name= sheet_name, index=False)\n",
    "    \n",
    "writer.save()"
   ]
  },
  {
   "cell_type": "code",
   "execution_count": 1,
   "metadata": {},
   "outputs": [],
   "source": [
    "# help(BeautifulSoup)"
   ]
  },
  {
   "cell_type": "code",
   "execution_count": 48,
   "metadata": {
    "scrolled": true
   },
   "outputs": [
    {
     "name": "stdout",
     "output_type": "stream",
     "text": [
      "东方网记者包永婷12月13日报道：“上海有600多处革命遗迹，很多人来到上海都会去走走看看，瞻仰学习。希望我们创作的‘红色足迹’的作品，能够让更多读者了解那段时光中发生过的故事，记起那些为了现今美好生活付出过、牺牲过的人。”12月12日，在“红色足迹”第一辑《石库门里的红色秘密》发布会上，网络作家血红如是说。2018年7月，“红色足迹——党的诞生地·上海革命遗址系列故事创作项目”启动，由叶辛、孙颙、赵丽宏、叶永烈等知名作家领衔，上海作协专业作家、签约作家、签约网络作家等加盟。上海作协专职副主席、秘书长马文运说：“红色资源是我们挖掘不尽的一个宝库，我们有责任和使命把红色资源发扬光大，告诉大家一个真实的历史。”日前，“红色足迹”第一辑《石库门里的红色秘密》出版，汇聚了40位作家创作的78篇红色故事。故事内容纵向涵盖中国共产党建党时期和第一、二次国内革命战争时期；横向包括党的建设、武装斗争、工农运动、思想文化运动、妇女运动、学生运动、隐蔽战线斗争等各领域。作家孙颙撰写中共中央档案文献库的“生死时速”。上世纪20年代后期，第一次国共合作失败，在敌人严酷统治下的大上海，中共中央档案文献库二万余件绝密材料屡次搬迁，惊险地躲过了国民党特务和日本侵略军的魔爪，艰难而安然无恙地坚持了二十几年，直到1949年上海解放。仔仔细细翻看各种资料后，孙颙觉得这是件不可思议的事情，一定要把它写出来。“当时，中国共产党主要力量正在两万五千里长征，这是不可思议的长途跋涉。中共中央档案库的‘生死时速’与红军两万五千里长征的不可思议对照起来写，所以我的标题是《不可思议的跋涉》，”在写的过程中，孙颙还十分注重细节，比如陈为人用什么来搬运绝密材料，“用了像跑单帮一样的形式，弄个筐，里面放两本材料”。“从早期党史中寻找参照和线索，了解其他相关人物的生平，增加对时代的理解，以便能够更真实地还原当时工人群体的生活与斗争的状态，也试着把握那个年代青年人的精神风貌。”青年作家王萌萌写下了《工运战鼓敲响的地方——中国劳动组合书记部旧址纪念馆》。由于涉及到1920年至1925年最早期的工运史，历史资料相对比较少，她通过阅读专业资料，最终将目光聚焦在中国劳动组合书记部干事李启汉和中国劳动组合书记部主任邓中夏这一对战火中结下深厚情谊工运先驱的身上。“最重要的是自己感受到了100多年前在国家民族危亡之际，当时那批最有家国情怀的、最有使命感的人那种非常纯粹的赤诚和勇毅，他们的这种精神应该代代传承！”王萌萌说。“很多作家写的时候不是机械地完成一篇作文，而是花了很多精力，实地走访，搜寻史料，采访并有所感悟。”上海市作协党组书记、专职副主席王伟总结，这是作家拓宽写作领域、探索创作思路的一次有益尝试。“红色足迹——党的诞生地·上海革命遗址系列故事创作项目”由中共上海市委宣传部、中共上海市委党史研究室、上海市文化旅游局和上海市文物局指导，上海市作家协会主办，围绕中共革命斗争历史轨迹创作约400篇故事，项目丛书预计2021年7月前出齐四辑。\n"
     ]
    }
   ],
   "source": [
    "html_eastday = urlopen(\"http://sh.eastday.com/m/20191213/u1ai20223148.html\")\n",
    "bs_eastday = BeautifulSoup(html_eastday, \"html.parser\", from_encoding=\"cp936\")\n",
    "content = \"\"\n",
    "for con in bs_eastday.find('div', {'id' : 'zw'}).find_all('p'):\n",
    "    temp_con = con.text.strip()\n",
    "#     if re.search(u'[\\u4e00-\\u9fff]', temp_con):\n",
    "    content += temp_con\n",
    "print(content)"
   ]
  },
  {
   "cell_type": "code",
   "execution_count": 49,
   "metadata": {},
   "outputs": [],
   "source": [
    "from urllib.request import urlopen\n",
    "from bs4 import BeautifulSoup\n",
    "import pandas as pd\n",
    "import time\n",
    "import re\n",
    "import xlsxwriter\n",
    "\n",
    "now =time.gmtime(time.time())\n",
    "columns = [\"title\", \"length_of_news\", \"link\"]\n",
    "\n",
    "###########################################################################################\n",
    "#eastday\n",
    "html_eastday_scroll = urlopen(\"http://news.eastday.com/gd2008/sh/index.html?t=true\")  \n",
    "\n",
    "bs_eastday_scroll = BeautifulSoup(html_eastday_scroll, \"html.parser\", from_encoding=\"cp936\") \n",
    "\n",
    "eastday_titles = []\n",
    "eastday_links = []\n",
    "eastday_lens = []\n",
    "\n",
    "for link in bs_eastday_scroll.find(\"div\", {\"class\": \"leftsection\"}).find_all(\"a\"):\n",
    "\n",
    "    html_eastday_title = link.text.strip()\n",
    "    html_eastday_link = link.get(\"href\")\n",
    "    if html_eastday_link.count(\"http\"):\n",
    "        eastday_titles.append(html_eastday_title)\n",
    "        eastday_links.append(html_eastday_link)\n",
    "        \n",
    "#xinminwang\n",
    "html_xinmin_scroll = urlopen(\"http://www.xinmin.cn/rollnews/index.htm\")  \n",
    "\n",
    "bs_xinmin_scroll = BeautifulSoup(html_xinmin_scroll, \"html.parser\", from_encoding=\"cp936\") \n",
    "\n",
    "xinmin_titles = []\n",
    "xinmin_links = []\n",
    "xinmin_lens = []\n",
    "  \n",
    "for link in bs_xinmin_scroll.find_all(\"div\", {\"class\": \"cont_full\"}):\n",
    "    html_xinmin_title = link.find(\"a\").text.strip()\n",
    "    html_xinmin_link = link.find(\"a\").get(\"href\")\n",
    "    if html_xinmin_link.count(\"http\"):\n",
    "        xinmin_titles.append(html_xinmin_title)\n",
    "        xinmin_links.append(html_xinmin_link)\n",
    "        \n",
    "        \n",
    "###############################################################################################################\n",
    "\n",
    "for html_eastday_title, html_eastday_link in zip(eastday_titles, eastday_links):\n",
    "    html_eastday = urlopen(html_eastday_link)\n",
    "    bs_eastday = BeautifulSoup(html_eastday, \"html.parser\", from_encoding=\"cp936\")\n",
    "    content = \"\"\n",
    "    try:\n",
    "        for con in bs_eastday.find('div', {'id' : 'zw'}).find_all('p'):\n",
    "            temp_con = con.text.strip()\n",
    "            if re.search(u'[\\u4e00-\\u9fff]', temp_con):\n",
    "                content += temp_con\n",
    "    except:\n",
    "        pass\n",
    "    eastday_lens.append(len(content))\n",
    "\n",
    "\n",
    "eastday_data = {\n",
    "    columns[0]:eastday_titles,\n",
    "    columns[1]:eastday_lens,\n",
    "    columns[2]:eastday_links\n",
    "}\n",
    "\n",
    "eastday_frame = pd.DataFrame(eastday_data, columns=columns)\n",
    "eastday_frame.sort_values(columns[1], axis = 0, ascending = True, inplace = True, na_position ='first') \n",
    "\n",
    "for html_xinmin_title, html_xinmin_link in zip(xinmin_titles, xinmin_links):\n",
    "    html_xinmin = urlopen(html_xinmin_link)\n",
    "    bs_xinmin = BeautifulSoup(html_xinmin, \"html.parser\", from_encoding=\"cp936\")\n",
    "    content = \"\"\n",
    "    try:\n",
    "        for con in bs_xinmin.find('div', {'class' : 'a_content'}).find_all('p'):\n",
    "            temp_con = con.text.strip()\n",
    "            if re.search(u'[\\u4e00-\\u9fff]', temp_con):\n",
    "                content += temp_con\n",
    "    except:\n",
    "        pass\n",
    "    xinmin_lens.append(len(content))\n",
    "\n",
    "\n",
    "xinmin_data = {\n",
    "    columns[0]:xinmin_titles,\n",
    "    columns[1]:xinmin_lens,\n",
    "    columns[2]:xinmin_links\n",
    "}\n",
    "\n",
    "xinmin_frame = pd.DataFrame(xinmin_data, columns=columns)\n",
    "xinmin_frame.sort_values(columns[1], axis = 0, ascending = True, inplace = True, na_position ='first') \n",
    "\n",
    "#####################################################################################################\n",
    "#writer\n",
    "\n",
    "writer = pd.ExcelWriter(\"{}_{}_{}_data.xlsx\".format(now.tm_year, now.tm_mon, now.tm_mday), engine = \"xlsxwriter\")\n",
    "\n",
    "dfs = {\"eastday\":eastday_frame, \"xinmin\":xinmin_frame}\n",
    "\n",
    "for sheet_name in dfs.keys():\n",
    "    dfs[sheet_name].to_excel(writer, sheet_name= sheet_name, index=False)\n",
    "    \n",
    "writer.save()"
   ]
  },
  {
   "cell_type": "code",
   "execution_count": null,
   "metadata": {},
   "outputs": [],
   "source": [
    "from googletrans import Translator\n",
    "translator = Translator()\n",
    "translator.translator(\"\")"
   ]
  }
 ],
 "metadata": {
  "kernelspec": {
   "display_name": "tensorflow",
   "language": "python",
   "name": "tensorflow"
  },
  "language_info": {
   "codemirror_mode": {
    "name": "ipython",
    "version": 3
   },
   "file_extension": ".py",
   "mimetype": "text/x-python",
   "name": "python",
   "nbconvert_exporter": "python",
   "pygments_lexer": "ipython3",
   "version": "3.5.5"
  }
 },
 "nbformat": 4,
 "nbformat_minor": 2
}
