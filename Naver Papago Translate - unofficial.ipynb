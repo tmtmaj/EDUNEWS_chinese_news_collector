{
 "cells": [
  {
   "cell_type": "code",
   "execution_count": 1,
   "metadata": {},
   "outputs": [],
   "source": [
    "import requests"
   ]
  },
  {
   "cell_type": "code",
   "execution_count": 7,
   "metadata": {},
   "outputs": [
    {
     "name": "stdout",
     "output_type": "stream",
     "text": [
      "{'X-Frame-Options': 'DENY', 'Content-Type': 'text/html;charset=UTF-8', 'Set-Cookie': 'JSESSIONID=F563A03422281D9BAE5959B73E73B034; Path=/; HttpOnly', 'Transfer-Encoding': 'chunked', 'Date': 'Sat, 14 Dec 2019 13:56:00 GMT', 'Content-Language': 'en-US', 'Content-Encoding': 'gzip', 'Referrer-Policy': 'unsafe-url', 'Server': 'nfront'}\n"
     ]
    }
   ],
   "source": [
    "r = requests.get(\"https://papago.naver.com/\")\n",
    "\n",
    "print(r.headers)"
   ]
  },
  {
   "cell_type": "code",
   "execution_count": 9,
   "metadata": {},
   "outputs": [
    {
     "data": {
      "text/plain": [
       "200"
      ]
     },
     "execution_count": 9,
     "metadata": {},
     "output_type": "execute_result"
    }
   ],
   "source": [
    "r.status_code"
   ]
  },
  {
   "cell_type": "code",
   "execution_count": 3,
   "metadata": {
    "scrolled": true
   },
   "outputs": [
    {
     "name": "stdout",
     "output_type": "stream",
     "text": [
      " <!doctype html><html lang=\"ko\" data-placeholders-focus=\"false\"><head><!-- Google Tag Manager --><script>!function(e,t,a,n,g){e[n]=e[n]||[],e[n].push({\"gtm.start\":(new Date).getTime(),event:\"gtm.js\"});var m=t.getElementsByTagName(a)[0],r=t.createElement(a);r.async=!0,r.src=\"https://www.googletagmanager.com/gtm.js?id=GTM-P4MDNNV\",m.parentNode.insertBefore(r,m)}(window,document,\"script\",\"dataLayer\")</script><!-- End Google Tag Manager --><meta http-equiv=\"Content-Type\" content=\"text/html\" charset=\"utf-8\"/><meta http-equiv=\"X-XSS-Protection\" content=\"1\"/><meta http-equiv=\"X-UA-Compatible\" content=\"IE=edge\"/><meta name=\"referrer\" content=\"origin\"/><meta name=\"format-detection\" content=\"telephone=no\"/><meta name=\"theme-color\" content=\"#ffffff\"/><!-- mobile compatible --><meta name=\"viewport\" content=\"width=device-width,initial-scale=1,minimum-scale=1,user-scalable=no\"/><!--<meta name=\"mobile-web-app-capable\" content=\"yes\" />\n",
      "    <meta name=\"apple-mobile-web-app-capable\" content=\"yes\" />--><link rel=\"shortcut icon\" href=\"/favicon.ico\"/><!-- Android : 72*72(hdpi), 96*96(xhdpi), 144*144(xxhdpi), 192*192(xxxhdpi) --><link rel=\"apple-touch-icon-precomposed\" sizes=\"72x72\" href=\"/static/img/icon_72x72.png\"/><link rel=\"apple-touch-icon-precomposed\" sizes=\"96x96\" href=\"/static/img/icon_96x96.png\"/><link rel=\"apple-touch-icon-precomposed\" sizes=\"144x144\" href=\"/static/img/icon_144x144.png\"/><link rel=\"apple-touch-icon-precomposed\" sizes=\"192x192\" href=\"/static/img/icon_192x192.png\"/><!-- iPhone : 120*120, 180*180 --><link rel=\"apple-touch-icon-precomposed\" sizes=\"120x120\" href=\"/static/img/icon_120x120.png\"/><link rel=\"apple-touch-icon-precomposed\" sizes=\"180x180\" href=\"/static/img/icon_180x180.png\"/><!-- iPad : 76*76, 152*152, 167*167 --><link rel=\"apple-touch-icon-precomposed\" sizes=\"76x76\" href=\"/static/img/icon_76x76.png\"/><link rel=\"apple-touch-icon-precomposed\" sizes=\"152x152\" href=\"/static/img/icon_152x152.png\"/><link rel=\"apple-touch-icon-precomposed\" sizes=\"167x167\" href=\"/static/img/icon_167x167.png\"/><!-- keywords & description --><meta name=\"keywords\" content=\"파파고, 번역, 통역, 번역기, 통역기, 한국어번역, 영어번역, 일본어번역, 중국어번역, 중국어간체번역, 중국어번체번역, 스페인어번역, 프랑스어번역, 베트남어번역, 태국어번역, 인도네시아어번역, translate, translator, 翻訳, 通訳, 通訳機, 翻訳機, 翻译，口译，翻译器，口译器, traducción , Traductor, Traduction\"/><meta name=\"description\" content=\"똑똑한 AI 번역기 파파고, 언어 장벽 없이 대화하는 세상을 꿈꿉니다.\"/><!-- meta og --><meta property=\"og:description\" content=\"번역을 부탁해 파파고\"/><meta property=\"og:image\" content=\"https://papago.naver.com/static/img/papago_og.png\"/><meta property=\"og:site_name\" content=\"Naver papago\"/><meta property=\"og:title\" content=\"네이버 파파고\"/><meta property=\"og:type\" content=\"website\"/><!-- meta twitter --><meta name=\"twitter:card\" content=\"summary\"/><meta name=\"twitter:description\" content=\"번역을 부탁해 파파고\"/><meta name=\"twitter:image\" content=\"https://papago.naver.com/static/img/papago_og.png\"/><meta name=\"twitter:title\" content=\"네이버 파파고\"/><!-- <link rel=\"manifest\" href=\"manifest.json\" /> --><script type=\"text/javascript\">document.all&&!document.addEventListener&&document.location.replace(\"/static/ie8.html\");var console=window.console||{log:function(){},warn:function(){},error:function(){},time:function(){},timeEnd:function(){}};window.matchMedia=window.matchMedia||function(){return{matches:!1,addListener:function(){},removeListener:function(){}}}</script><script>if(\"net\"==document.location.hostname.split(\".\").pop()){var script=document.createElement(\"script\"),version=\"1.3.1\";script.src=\"/site/apis/site-translator.\"+version+\".js\",script.charset=\"utf-8\",document.head.appendChild(script)}</script><title>Papago</title><script type=\"text/javascript\">var query= null</script><meta name=\"theme-color\" content=\"#ffffff\"/><link rel=\"manifest\" href=\"/manifest.fd244897256b098d495d78cd5b418235.json\"/><link href=\"/8.24a155ec.css\" rel=\"stylesheet\"><link rel=\"preload\" href=\"/vendors~400~gym~home.042dd4bce6e90240ab78.chunk.js\" as=\"script\"/><link rel=\"preload\" href=\"/vendors~gym~home.601e5c19d34849eadc8a.chunk.js\" as=\"script\"/><link rel=\"preload\" href=\"/home.0cd2771bd6d0a89aac69.chunk.js\" as=\"script\"/><link rel=\"preload\" href=\"/vendors~home.77bc646ea4103984194c.chunk.js\" as=\"script\"/></head><body><!-- Google Tag Manager (noscript) --><noscript><iframe src=\"https://www.googletagmanager.com/ns.html?id=GTM-P4MDNNV\" height=\"0\" width=\"0\" style=\"display:none;visibility:hidden\"></iframe></noscript><!-- End Google Tag Manager (noscript) --><noscript>If you're seeing this message, that means <strong>JavaScript has been disabled on your browser</strong>, please <strong>enable JS</strong> to make this app work.</noscript><div id=\"root\" class=\"main_layout\"></div><script type=\"text/javascript\" src=\"/runtime~main.5020ac57084673c81682.js\" defer=\"defer\"></script><script type=\"text/javascript\" src=\"/vendors~main.aa0c949cd8808fe32391.chunk.js\" defer=\"defer\"></script><script type=\"text/javascript\" src=\"/main.edb02655622e510dec5c.chunk.js\" defer=\"defer\"></script></body></html>\n"
     ]
    }
   ],
   "source": [
    "print(r.text)"
   ]
  },
  {
   "cell_type": "code",
   "execution_count": 6,
   "metadata": {},
   "outputs": [
    {
     "name": "stdout",
     "output_type": "stream",
     "text": [
      " <!doctype html><html lang=\"ko\" data-placeholders-focus=\"false\"><head><!-- Google Tag Manager --><script>!function(e,t,a,n,g){e[n]=e[n]||[],e[n].push({\"gtm.start\":(new Date).getTime(),event:\"gtm.js\"});var m=t.getElementsByTagName(a)[0],r=t.createElement(a);r.async=!0,r.src=\"https://www.googletagmanager.com/gtm.js?id=GTM-P4MDNNV\",m.parentNode.insertBefore(r,m)}(window,document,\"script\",\"dataLayer\")</script><!-- End Google Tag Manager --><meta http-equiv=\"Content-Type\" content=\"text/html\" charset=\"utf-8\"/><meta http-equiv=\"X-XSS-Protection\" content=\"1\"/><meta http-equiv=\"X-UA-Compatible\" content=\"IE=edge\"/><meta name=\"referrer\" content=\"origin\"/><meta name=\"format-detection\" content=\"telephone=no\"/><meta name=\"theme-color\" content=\"#ffffff\"/><!-- mobile compatible --><meta name=\"viewport\" content=\"width=device-width,initial-scale=1,minimum-scale=1,user-scalable=no\"/><!--<meta name=\"mobile-web-app-capable\" content=\"yes\" />\n",
      "    <meta name=\"apple-mobile-web-app-capable\" content=\"yes\" />--><link rel=\"shortcut icon\" href=\"/favicon.ico\"/><!-- Android : 72*72(hdpi), 96*96(xhdpi), 144*144(xxhdpi), 192*192(xxxhdpi) --><link rel=\"apple-touch-icon-precomposed\" sizes=\"72x72\" href=\"/static/img/icon_72x72.png\"/><link rel=\"apple-touch-icon-precomposed\" sizes=\"96x96\" href=\"/static/img/icon_96x96.png\"/><link rel=\"apple-touch-icon-precomposed\" sizes=\"144x144\" href=\"/static/img/icon_144x144.png\"/><link rel=\"apple-touch-icon-precomposed\" sizes=\"192x192\" href=\"/static/img/icon_192x192.png\"/><!-- iPhone : 120*120, 180*180 --><link rel=\"apple-touch-icon-precomposed\" sizes=\"120x120\" href=\"/static/img/icon_120x120.png\"/><link rel=\"apple-touch-icon-precomposed\" sizes=\"180x180\" href=\"/static/img/icon_180x180.png\"/><!-- iPad : 76*76, 152*152, 167*167 --><link rel=\"apple-touch-icon-precomposed\" sizes=\"76x76\" href=\"/static/img/icon_76x76.png\"/><link rel=\"apple-touch-icon-precomposed\" sizes=\"152x152\" href=\"/static/img/icon_152x152.png\"/><link rel=\"apple-touch-icon-precomposed\" sizes=\"167x167\" href=\"/static/img/icon_167x167.png\"/><!-- keywords & description --><meta name=\"keywords\" content=\"파파고, 번역, 통역, 번역기, 통역기, 한국어번역, 영어번역, 일본어번역, 중국어번역, 중국어간체번역, 중국어번체번역, 스페인어번역, 프랑스어번역, 베트남어번역, 태국어번역, 인도네시아어번역, translate, translator, 翻訳, 通訳, 通訳機, 翻訳機, 翻译，口译，翻译器，口译器, traducción , Traductor, Traduction\"/><meta name=\"description\" content=\"똑똑한 AI 번역기 파파고, 언어 장벽 없이 대화하는 세상을 꿈꿉니다.\"/><!-- meta og --><meta property=\"og:description\" content=\"번역을 부탁해 파파고\"/><meta property=\"og:image\" content=\"https://papago.naver.com/static/img/papago_og.png\"/><meta property=\"og:site_name\" content=\"Naver papago\"/><meta property=\"og:title\" content=\"네이버 파파고\"/><meta property=\"og:type\" content=\"website\"/><!-- meta twitter --><meta name=\"twitter:card\" content=\"summary\"/><meta name=\"twitter:description\" content=\"번역을 부탁해 파파고\"/><meta name=\"twitter:image\" content=\"https://papago.naver.com/static/img/papago_og.png\"/><meta name=\"twitter:title\" content=\"네이버 파파고\"/><!-- <link rel=\"manifest\" href=\"manifest.json\" /> --><script type=\"text/javascript\">document.all&&!document.addEventListener&&document.location.replace(\"/static/ie8.html\");var console=window.console||{log:function(){},warn:function(){},error:function(){},time:function(){},timeEnd:function(){}};window.matchMedia=window.matchMedia||function(){return{matches:!1,addListener:function(){},removeListener:function(){}}}</script><script>if(\"net\"==document.location.hostname.split(\".\").pop()){var script=document.createElement(\"script\"),version=\"1.3.1\";script.src=\"/site/apis/site-translator.\"+version+\".js\",script.charset=\"utf-8\",document.head.appendChild(script)}</script><title>Papago</title><script type=\"text/javascript\">var query= null</script><meta name=\"theme-color\" content=\"#ffffff\"/><link rel=\"manifest\" href=\"/manifest.fd244897256b098d495d78cd5b418235.json\"/><link href=\"/8.24a155ec.css\" rel=\"stylesheet\"><link rel=\"preload\" href=\"/vendors~400~gym~home.042dd4bce6e90240ab78.chunk.js\" as=\"script\"/><link rel=\"preload\" href=\"/vendors~gym~home.601e5c19d34849eadc8a.chunk.js\" as=\"script\"/><link rel=\"preload\" href=\"/home.0cd2771bd6d0a89aac69.chunk.js\" as=\"script\"/><link rel=\"preload\" href=\"/vendors~home.77bc646ea4103984194c.chunk.js\" as=\"script\"/></head><body><!-- Google Tag Manager (noscript) --><noscript><iframe src=\"https://www.googletagmanager.com/ns.html?id=GTM-P4MDNNV\" height=\"0\" width=\"0\" style=\"display:none;visibility:hidden\"></iframe></noscript><!-- End Google Tag Manager (noscript) --><noscript>If you're seeing this message, that means <strong>JavaScript has been disabled on your browser</strong>, please <strong>enable JS</strong> to make this app work.</noscript><div id=\"root\" class=\"main_layout\"></div><script type=\"text/javascript\" src=\"/runtime~main.5020ac57084673c81682.js\" defer=\"defer\"></script><script type=\"text/javascript\" src=\"/vendors~main.aa0c949cd8808fe32391.chunk.js\" defer=\"defer\"></script><script type=\"text/javascript\" src=\"/main.edb02655622e510dec5c.chunk.js\" defer=\"defer\"></script></body></html>\n"
     ]
    }
   ],
   "source": [
    "r2 = requests.get(\"https://papago.naver.com/?sk=ko&tk=en&st=%EA%B8%B8%EC%9D%B4%20%EC%A0%9C%ED%95%9C\")\n",
    "print(r2.text)"
   ]
  }
 ],
 "metadata": {
  "kernelspec": {
   "display_name": "tensorflow",
   "language": "python",
   "name": "tensorflow"
  },
  "language_info": {
   "codemirror_mode": {
    "name": "ipython",
    "version": 3
   },
   "file_extension": ".py",
   "mimetype": "text/x-python",
   "name": "python",
   "nbconvert_exporter": "python",
   "pygments_lexer": "ipython3",
   "version": "3.5.5"
  }
 },
 "nbformat": 4,
 "nbformat_minor": 2
}
